{
 "cells": [
  {
   "cell_type": "markdown",
   "metadata": {},
   "source": [
    "# Implementação da matriz de rotação de givens\n",
    "\n",
    "O código exemplo mostra todas as formas da matriz de givens"
   ]
  },
  {
   "cell_type": "code",
   "execution_count": 14,
   "metadata": {
    "collapsed": false
   },
   "outputs": [
    {
     "name": "stdout",
     "output_type": "stream",
     "text": [
      "[[ 0.8660254  0.5        0.         0.         0.       ]\n",
      " [-0.5        0.8660254  0.         0.         0.       ]\n",
      " [ 0.         0.         1.         0.         0.       ]\n",
      " [ 0.         0.         0.         1.         0.       ]\n",
      " [ 0.         0.         0.         0.         1.       ]]\n",
      "\n",
      "[[ 0.8660254  0.         0.5        0.         0.       ]\n",
      " [ 0.         1.         0.         0.         0.       ]\n",
      " [-0.5        0.         0.8660254  0.         0.       ]\n",
      " [ 0.         0.         0.         1.         0.       ]\n",
      " [ 0.         0.         0.         0.         1.       ]]\n",
      "\n",
      "[[ 0.8660254  0.         0.         0.5        0.       ]\n",
      " [ 0.         1.         0.         0.         0.       ]\n",
      " [ 0.         0.         1.         0.         0.       ]\n",
      " [-0.5        0.         0.         0.8660254  0.       ]\n",
      " [ 0.         0.         0.         0.         1.       ]]\n",
      "\n",
      "[[ 0.8660254  0.         0.         0.         0.5      ]\n",
      " [ 0.         1.         0.         0.         0.       ]\n",
      " [ 0.         0.         1.         0.         0.       ]\n",
      " [ 0.         0.         0.         1.         0.       ]\n",
      " [-0.5        0.         0.         0.         0.8660254]]\n",
      "\n",
      "[[ 1.         0.         0.         0.         0.       ]\n",
      " [ 0.         0.8660254  0.5        0.         0.       ]\n",
      " [ 0.        -0.5        0.8660254  0.         0.       ]\n",
      " [ 0.         0.         0.         1.         0.       ]\n",
      " [ 0.         0.         0.         0.         1.       ]]\n",
      "\n",
      "[[ 1.         0.         0.         0.         0.       ]\n",
      " [ 0.         0.8660254  0.         0.5        0.       ]\n",
      " [ 0.         0.         1.         0.         0.       ]\n",
      " [ 0.        -0.5        0.         0.8660254  0.       ]\n",
      " [ 0.         0.         0.         0.         1.       ]]\n",
      "\n",
      "[[ 1.         0.         0.         0.         0.       ]\n",
      " [ 0.         0.8660254  0.         0.         0.5      ]\n",
      " [ 0.         0.         1.         0.         0.       ]\n",
      " [ 0.         0.         0.         1.         0.       ]\n",
      " [ 0.        -0.5        0.         0.         0.8660254]]\n",
      "\n",
      "[[ 1.         0.         0.         0.         0.       ]\n",
      " [ 0.         1.         0.         0.         0.       ]\n",
      " [ 0.         0.         0.8660254  0.5        0.       ]\n",
      " [ 0.         0.        -0.5        0.8660254  0.       ]\n",
      " [ 0.         0.         0.         0.         1.       ]]\n",
      "\n",
      "[[ 1.         0.         0.         0.         0.       ]\n",
      " [ 0.         1.         0.         0.         0.       ]\n",
      " [ 0.         0.         0.8660254  0.         0.5      ]\n",
      " [ 0.         0.         0.         1.         0.       ]\n",
      " [ 0.         0.        -0.5        0.         0.8660254]]\n",
      "\n",
      "[[ 1.         0.         0.         0.         0.       ]\n",
      " [ 0.         1.         0.         0.         0.       ]\n",
      " [ 0.         0.         1.         0.         0.       ]\n",
      " [ 0.         0.         0.         0.8660254  0.5      ]\n",
      " [ 0.         0.         0.        -0.5        0.8660254]]\n",
      "\n"
     ]
    }
   ],
   "source": [
    "import givens\n",
    "from itertools import combinations\n",
    "from numpy import pi\n",
    "\n",
    "# Tamanho\n",
    "SIZE = 5\n",
    "\n",
    "# Angulo \n",
    "THETA = pi/6\n",
    "\n",
    "# Exemplo de código para combinações possíveis de uma matriz de givens\n",
    "\n",
    "for i,j in combinations(xrange(SIZE),2):\n",
    "    print givens.givens(i,j,THETA,SIZE)\n",
    "    print "
   ]
  },
  {
   "cell_type": "code",
   "execution_count": 4,
   "metadata": {
    "collapsed": false
   },
   "outputs": [
    {
     "name": "stdout",
     "output_type": "stream",
     "text": [
      "10.9348294857 10.9348292351\n"
     ]
    }
   ],
   "source": [
    "def float_to_precision(num,prec=24):\n",
    "    exp = -np.floor(np.log2(num))\n",
    "    n2 = num*2**(exp)\n",
    "    n3 = int(n2*2**prec)\n",
    "    return (float(n3)/(2**prec)/(2**exp))\n",
    "\n",
    "val = 10.93482948572093485792384579238450284752394857\n",
    "print val,float_to_precision(val)"
   ]
  },
  {
   "cell_type": "code",
   "execution_count": 6,
   "metadata": {
    "collapsed": false
   },
   "outputs": [
    {
     "name": "stdout",
     "output_type": "stream",
     "text": [
      "[[  0 255   0]\n",
      " [255   0   0]\n",
      " [  0   0 255]]\n",
      "[[  0 255   0]\n",
      " [255   0   0]\n",
      " [  0   0 255]]\n"
     ]
    }
   ],
   "source": [
    "from numpy.linalg import svd\n",
    "import numpy as np\n",
    "\n",
    "A = np.matrix([[0x00,0xff,0x00],[0xff,0x00,0x00],[0x00,0x00,0xFF]])\n",
    "A2 = np.matrix([[0x00,0xff,0x00],[0xff,0x00,0x00],[0x00,0x00,0xFF]])\n",
    "print A\n",
    "U, s, V = svd(A)\n",
    "\n",
    "#recuperar A:\n",
    "S = np.diag(s)\n",
    "np.allclose(A2, np.dot(U, np.dot(S, V)))\n",
    "\n",
    "print A2"
   ]
  },
  {
   "cell_type": "code",
   "execution_count": 3,
   "metadata": {
    "collapsed": false
   },
   "outputs": [
    {
     "ename": "NameError",
     "evalue": "name 'float_to_precision' is not defined",
     "output_type": "error",
     "traceback": [
      "\u001b[0;31m---------------------------------------------------------------------------\u001b[0m",
      "\u001b[0;31mNameError\u001b[0m                                 Traceback (most recent call last)",
      "\u001b[0;32m<ipython-input-3-d8277786ee55>\u001b[0m in \u001b[0;36m<module>\u001b[0;34m()\u001b[0m\n\u001b[1;32m      7\u001b[0m \u001b[0mA\u001b[0m \u001b[0;34m=\u001b[0m \u001b[0mnp\u001b[0m\u001b[0;34m.\u001b[0m\u001b[0mmatrix\u001b[0m\u001b[0;34m(\u001b[0m\u001b[0mA\u001b[0m\u001b[0;34m)\u001b[0m\u001b[0;34m\u001b[0m\u001b[0m\n\u001b[1;32m      8\u001b[0m \u001b[0;34m\u001b[0m\u001b[0m\n\u001b[0;32m----> 9\u001b[0;31m \u001b[0mset_float_prec\u001b[0m \u001b[0;34m=\u001b[0m \u001b[0mnp\u001b[0m\u001b[0;34m.\u001b[0m\u001b[0mvectorize\u001b[0m\u001b[0;34m(\u001b[0m\u001b[0mfloat_to_precision\u001b[0m\u001b[0;34m)\u001b[0m\u001b[0;34m\u001b[0m\u001b[0m\n\u001b[0m\u001b[1;32m     10\u001b[0m \u001b[0;34m\u001b[0m\u001b[0m\n\u001b[1;32m     11\u001b[0m \u001b[0;32mprint\u001b[0m \u001b[0mA\u001b[0m\u001b[0;34m\u001b[0m\u001b[0m\n",
      "\u001b[0;31mNameError\u001b[0m: name 'float_to_precision' is not defined"
     ]
    }
   ],
   "source": [
    "import random\n",
    "\n",
    "MATRIX_SIZE = 128 # 24 bits\n",
    "\n",
    "A = [[random.randint(0,2**24) for __ in xrange(MATRIX_SIZE)] for _ in xrange(MATRIX_SIZE)]\n",
    "\n",
    "A = np.matrix(A)\n",
    "\n",
    "set_float_prec = np.vectorize(float_to_precision)\n",
    "\n",
    "print A\n",
    "\n",
    "U, s, V = svd(A)\n",
    "S = np.diag(set_float_prec(s,prec = 8))\n",
    "A2 = np.dot(U, np.dot(S, V))\n",
    "\n",
    "\n",
    "\n",
    "print (A2 - A)/A"
   ]
  },
  {
   "cell_type": "code",
   "execution_count": 136,
   "metadata": {
    "collapsed": false,
    "scrolled": false
   },
   "outputs": [
    {
     "name": "stdout",
     "output_type": "stream",
     "text": [
      "138 128 128 49290 16384 3\n"
     ]
    }
   ],
   "source": [
    "#teste com uma imagem\n",
    "from IPython.display import Image\n",
    "\n",
    "import dimage\n",
    "reload(dimage)\n",
    "\n",
    "img = dimage.DanImg(bmp=\"rainbow128.bmp\")\n",
    "\n",
    "#print img.pix\n",
    "\n",
    "pixelmap24 = img.pix24\n",
    "\n",
    "pm24 = np.matrix(pixelmap24)\n",
    "\n",
    "set_float_prec = np.vectorize(float_to_precision)\n",
    "to_integer_matrix = np.vectorize(int)\n",
    "\n",
    "U, s, V = svd(pm24)\n",
    "\n",
    "precisions = [52,36,23,16,8]\n",
    "\n",
    "for prec in precisions:\n",
    "    S = np.diag(set_float_prec(s,prec = prec))\n",
    "    # S = np.diag(s)\n",
    "    pm24_2 = to_integer_matrix(np.dot(U, np.dot(S, V)))\n",
    "    E\n",
    "    #print str(pm24_2)\n",
    "    #print str(pm24)\n",
    "    \n",
    "    img.pix_from_pix24(pm24_2.tolist())\n",
    "    img.rec_bmp_from_pix(\"teste%02u.bmp\"%(prec))\n"
   ]
  },
  {
   "cell_type": "code",
   "execution_count": 5,
   "metadata": {
    "collapsed": false
   },
   "outputs": [
    {
     "name": "stdout",
     "output_type": "stream",
     "text": [
      "138 128 128 49290 16384 3\n"
     ]
    },
    {
     "ename": "NameError",
     "evalue": "name 'svd' is not defined",
     "output_type": "error",
     "traceback": [
      "\u001b[0;31m---------------------------------------------------------------------------\u001b[0m",
      "\u001b[0;31mNameError\u001b[0m                                 Traceback (most recent call last)",
      "\u001b[0;32m<ipython-input-5-ab43bde5bdaa>\u001b[0m in \u001b[0;36m<module>\u001b[0;34m()\u001b[0m\n\u001b[1;32m     17\u001b[0m \u001b[0mto_integer_matrix\u001b[0m \u001b[0;34m=\u001b[0m \u001b[0mnp\u001b[0m\u001b[0;34m.\u001b[0m\u001b[0mvectorize\u001b[0m\u001b[0;34m(\u001b[0m\u001b[0mint\u001b[0m\u001b[0;34m)\u001b[0m\u001b[0;34m\u001b[0m\u001b[0m\n\u001b[1;32m     18\u001b[0m \u001b[0;34m\u001b[0m\u001b[0m\n\u001b[0;32m---> 19\u001b[0;31m \u001b[0mU\u001b[0m\u001b[0;34m,\u001b[0m \u001b[0ms\u001b[0m\u001b[0;34m,\u001b[0m \u001b[0mV\u001b[0m \u001b[0;34m=\u001b[0m \u001b[0msvd\u001b[0m\u001b[0;34m(\u001b[0m\u001b[0mpm24\u001b[0m\u001b[0;34m)\u001b[0m\u001b[0;34m\u001b[0m\u001b[0m\n\u001b[0m\u001b[1;32m     20\u001b[0m \u001b[0;34m\u001b[0m\u001b[0m\n\u001b[1;32m     21\u001b[0m \u001b[0mprecisions\u001b[0m \u001b[0;34m=\u001b[0m \u001b[0;34m[\u001b[0m\u001b[0;36m52\u001b[0m\u001b[0;34m,\u001b[0m\u001b[0;36m36\u001b[0m\u001b[0;34m,\u001b[0m\u001b[0;36m23\u001b[0m\u001b[0;34m,\u001b[0m\u001b[0;36m16\u001b[0m\u001b[0;34m,\u001b[0m\u001b[0;36m8\u001b[0m\u001b[0;34m]\u001b[0m\u001b[0;34m\u001b[0m\u001b[0m\n",
      "\u001b[0;31mNameError\u001b[0m: name 'svd' is not defined"
     ]
    }
   ],
   "source": [
    "#teste com uma imagem\n",
    "from IPython.display import Image\n",
    "\n",
    "import dimage\n",
    "import numpy as np\n",
    "reload(dimage)\n",
    "\n",
    "img = dimage.DanImg(bmp=\"rainbow128.bmp\")\n",
    "\n",
    "#print img.pix\n",
    "\n",
    "pixelmap24 = img.pix24\n",
    "\n",
    "pm24 = np.matrix(pixelmap24)\n",
    "\n",
    "set_float_prec = np.vectorize(float_to_precision)\n",
    "to_integer_matrix = np.vectorize(int)\n",
    "\n",
    "U, s, V = svd(pm24)\n",
    "\n",
    "precisions = [52,36,23,16,8]\n",
    "\n",
    "\n",
    "\n",
    "for prec in precisions:\n",
    "    S = np.diag(set_float_prec(s,prec = prec))\n",
    "    # S = np.diag(s)\n",
    "    pm24_2 = to_integer_matrix(np.dot(U, np.dot(S, V)))\n",
    "    E\n",
    "    #print str(pm24_2)\n",
    "    #print str(pm24)\n",
    "    \n",
    "    img.pix_from_pix24(pm24_2.tolist())\n",
    "    img.rec_bmp_from_pix(\"teste%02u.bmp\"%(prec))"
   ]
  },
  {
   "cell_type": "markdown",
   "metadata": {},
   "source": [
    "Original:\n",
    "<img src=\"rainbow128.bmp\">\n",
    "52 bits\n",
    "<img src=\"teste52.bmp\">\n",
    "36 bits\n",
    "<img src=\"teste36.bmp\">\n",
    "23 bits\n",
    "<img src=\"teste23.bmp\">\n",
    "16 bits\n",
    "<img src=\"teste16.bmp\">\n",
    "8 bits\n",
    "<img src=\"teste08.bmp\">"
   ]
  },
  {
   "cell_type": "code",
   "execution_count": null,
   "metadata": {
    "collapsed": false,
    "scrolled": false
   },
   "outputs": [],
   "source": [
    "import numpy as np\n",
    "import givens\n",
    "import itertools\n",
    "from itertools import combinations\n",
    "\n",
    "NUMBER_OF_ANGLES = 36\n",
    "\n",
    "MATRIX_SIZE = 10\n",
    "\n",
    "ANGLES = np.arange(0,2*np.pi,2*np.pi/NUMBER_OF_ANGLES)\n",
    "\n",
    "ANGS_TABLE = {}\n",
    "\n",
    "for ang in ANGLES:\n",
    "    ANGS_TABLE[ang] = np.identity(MATRIX_SIZE)\n",
    "    for i,j in combinations(xrange(MATRIX_SIZE),2):\n",
    "        ANGS_TABLE[ang] = np.dot(ANGS_TABLE[ang],givens.givens(i,j,ang,MATRIX_SIZE))\n",
    "    #print ang,ANGS_TABLE[ang]\n",
    "\n",
    "LTABLE = {}\n",
    "\n",
    "for angs in itertools.product(ANGS_TABLE,repeat=MATRIX_SIZE-1):\n",
    "    #print angs\n",
    "    MAT = np.identity(MATRIX_SIZE)\n",
    "    for ang in angs:\n",
    "        MAT = np.dot(MAT,ANGS_TABLE[ang])\n",
    "    LTABLE[angs] = MAT\n",
    "    \n",
    "print len(ANGS_TABLE), len(LTABLE)"
   ]
  },
  {
   "cell_type": "code",
   "execution_count": 4,
   "metadata": {
    "collapsed": false
   },
   "outputs": [
    {
     "data": {
      "text/plain": [
       "1679616"
      ]
     },
     "execution_count": 4,
     "metadata": {},
     "output_type": "execute_result"
    }
   ],
   "source": [
    "36**4"
   ]
  }
 ],
 "metadata": {
  "kernelspec": {
   "display_name": "Python 2",
   "language": "python",
   "name": "python2"
  },
  "language_info": {
   "codemirror_mode": {
    "name": "ipython",
    "version": 2
   },
   "file_extension": ".py",
   "mimetype": "text/x-python",
   "name": "python",
   "nbconvert_exporter": "python",
   "pygments_lexer": "ipython2",
   "version": "2.7.12"
  }
 },
 "nbformat": 4,
 "nbformat_minor": 0
}
