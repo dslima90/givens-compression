{
 "cells": [
  {
   "cell_type": "markdown",
   "metadata": {},
   "source": [
    "## Explicação do erro de não convergencia\n",
    "\n",
    "Consideremos que vamos compactar a Matriz A\n",
    "\n",
    "A primeira iteraçao resulta em um vetor V que ao fazermos o reverso para encontrar A novamente, obtemos A'\n",
    "\n",
    "então temos E = A - A'\n",
    "\n",
    "O que acontece é que quando A possui valores muito pequenos, devido a nossa precisão, o que resulta do algorítmo reverso é A' = 0 (Matriz nula), então E = A e assim continuamos indefinidamente, uma vez que o retorno da primera compactacao de A é sempre uma matriz nula.\n",
    "\n",
    "Esse é um problema um pouco sério e acontece mais quanto maior o tamanho da matriz (considerando um mesmo número de angulos), a solução de ficar somando com a identidade garante que um dia isso vai convergir (será?) mas não é uma solução muito boa pq não sabemos em quanto tempo vai convergir.\n",
    "\n",
    "A única maneira de solucionar é descobrir uma forma de compactar a matriz de erros residuais deve ser bem facil utilizar uma compactação binária, já que seram valores sempre muito pequenos.\n"
   ]
  }
 ],
 "metadata": {
  "kernelspec": {
   "display_name": "Python 2",
   "language": "python",
   "name": "python2"
  },
  "language_info": {
   "codemirror_mode": {
    "name": "ipython",
    "version": 2
   },
   "file_extension": ".py",
   "mimetype": "text/x-python",
   "name": "python",
   "nbconvert_exporter": "python",
   "pygments_lexer": "ipython2",
   "version": "2.7.12"
  }
 },
 "nbformat": 4,
 "nbformat_minor": 0
}
