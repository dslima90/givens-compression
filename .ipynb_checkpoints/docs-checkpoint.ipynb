{
 "cells": [
  {
   "cell_type": "markdown",
   "metadata": {},
   "source": [
    "# Implementação da matriz de rotação de givens\n",
    "\n",
    "O código exemplo mostra todas as formas da matriz de givens"
   ]
  },
  {
   "cell_type": "code",
   "execution_count": 14,
   "metadata": {
    "collapsed": false
   },
   "outputs": [
    {
     "name": "stdout",
     "output_type": "stream",
     "text": [
      "[[ 0.8660254  0.5        0.         0.         0.       ]\n",
      " [-0.5        0.8660254  0.         0.         0.       ]\n",
      " [ 0.         0.         1.         0.         0.       ]\n",
      " [ 0.         0.         0.         1.         0.       ]\n",
      " [ 0.         0.         0.         0.         1.       ]]\n",
      "\n",
      "[[ 0.8660254  0.         0.5        0.         0.       ]\n",
      " [ 0.         1.         0.         0.         0.       ]\n",
      " [-0.5        0.         0.8660254  0.         0.       ]\n",
      " [ 0.         0.         0.         1.         0.       ]\n",
      " [ 0.         0.         0.         0.         1.       ]]\n",
      "\n",
      "[[ 0.8660254  0.         0.         0.5        0.       ]\n",
      " [ 0.         1.         0.         0.         0.       ]\n",
      " [ 0.         0.         1.         0.         0.       ]\n",
      " [-0.5        0.         0.         0.8660254  0.       ]\n",
      " [ 0.         0.         0.         0.         1.       ]]\n",
      "\n",
      "[[ 0.8660254  0.         0.         0.         0.5      ]\n",
      " [ 0.         1.         0.         0.         0.       ]\n",
      " [ 0.         0.         1.         0.         0.       ]\n",
      " [ 0.         0.         0.         1.         0.       ]\n",
      " [-0.5        0.         0.         0.         0.8660254]]\n",
      "\n",
      "[[ 1.         0.         0.         0.         0.       ]\n",
      " [ 0.         0.8660254  0.5        0.         0.       ]\n",
      " [ 0.        -0.5        0.8660254  0.         0.       ]\n",
      " [ 0.         0.         0.         1.         0.       ]\n",
      " [ 0.         0.         0.         0.         1.       ]]\n",
      "\n",
      "[[ 1.         0.         0.         0.         0.       ]\n",
      " [ 0.         0.8660254  0.         0.5        0.       ]\n",
      " [ 0.         0.         1.         0.         0.       ]\n",
      " [ 0.        -0.5        0.         0.8660254  0.       ]\n",
      " [ 0.         0.         0.         0.         1.       ]]\n",
      "\n",
      "[[ 1.         0.         0.         0.         0.       ]\n",
      " [ 0.         0.8660254  0.         0.         0.5      ]\n",
      " [ 0.         0.         1.         0.         0.       ]\n",
      " [ 0.         0.         0.         1.         0.       ]\n",
      " [ 0.        -0.5        0.         0.         0.8660254]]\n",
      "\n",
      "[[ 1.         0.         0.         0.         0.       ]\n",
      " [ 0.         1.         0.         0.         0.       ]\n",
      " [ 0.         0.         0.8660254  0.5        0.       ]\n",
      " [ 0.         0.        -0.5        0.8660254  0.       ]\n",
      " [ 0.         0.         0.         0.         1.       ]]\n",
      "\n",
      "[[ 1.         0.         0.         0.         0.       ]\n",
      " [ 0.         1.         0.         0.         0.       ]\n",
      " [ 0.         0.         0.8660254  0.         0.5      ]\n",
      " [ 0.         0.         0.         1.         0.       ]\n",
      " [ 0.         0.        -0.5        0.         0.8660254]]\n",
      "\n",
      "[[ 1.         0.         0.         0.         0.       ]\n",
      " [ 0.         1.         0.         0.         0.       ]\n",
      " [ 0.         0.         1.         0.         0.       ]\n",
      " [ 0.         0.         0.         0.8660254  0.5      ]\n",
      " [ 0.         0.         0.        -0.5        0.8660254]]\n",
      "\n"
     ]
    }
   ],
   "source": [
    "import givens\n",
    "from itertools import combinations\n",
    "from numpy import pi\n",
    "\n",
    "# Tamanho\n",
    "SIZE = 5\n",
    "\n",
    "# Angulo \n",
    "THETA = pi/6\n",
    "\n",
    "# Exemplo de código para combinações possíveis de uma matriz de givens\n",
    "\n",
    "for i,j in combinations(xrange(SIZE),2):\n",
    "    print givens.givens(i,j,THETA,SIZE)\n",
    "    print "
   ]
  }
 ],
 "metadata": {
  "kernelspec": {
   "display_name": "Python 2",
   "language": "python",
   "name": "python2"
  },
  "language_info": {
   "codemirror_mode": {
    "name": "ipython",
    "version": 2
   },
   "file_extension": ".py",
   "mimetype": "text/x-python",
   "name": "python",
   "nbconvert_exporter": "python",
   "pygments_lexer": "ipython2",
   "version": "2.7.12"
  }
 },
 "nbformat": 4,
 "nbformat_minor": 0
}
